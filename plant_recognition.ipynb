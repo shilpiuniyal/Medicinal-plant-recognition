{
 "cells": [
  {
   "cell_type": "code",
   "execution_count": 2,
   "id": "5552e5fb",
   "metadata": {},
   "outputs": [],
   "source": [
    "import numpy as np\n",
    "import tensorflow as tf\n",
    "from keras.preprocessing.image import ImageDataGenerator\n",
    "from tensorflow.keras.preprocessing import image\n",
    "import matplotlib.pyplot as plt"
   ]
  },
  {
   "cell_type": "code",
   "execution_count": 3,
   "id": "c20c2256",
   "metadata": {},
   "outputs": [
    {
     "data": {
      "text/plain": [
       "'2.15.0'"
      ]
     },
     "execution_count": 3,
     "metadata": {},
     "output_type": "execute_result"
    }
   ],
   "source": [
    "tf.__version__"
   ]
  },
  {
   "cell_type": "code",
   "execution_count": 4,
   "id": "41031a98",
   "metadata": {},
   "outputs": [
    {
     "name": "stdout",
     "output_type": "stream",
     "text": [
      "Found 1206 images belonging to 21 classes.\n"
     ]
    }
   ],
   "source": [
    "train_datagen = ImageDataGenerator(\n",
    "        rescale=1./255,\n",
    "        shear_range=0.2,\n",
    "        zoom_range=0.2,\n",
    "        horizontal_flip=True)\n",
    "batch_size=32\n",
    "training_set = train_datagen.flow_from_directory(\n",
    "        'training_set',\n",
    "        target_size=(64, 64),\n",
    "        batch_size=32,\n",
    "        class_mode='categorical')"
   ]
  },
  {
   "cell_type": "code",
   "execution_count": 5,
   "id": "da0b1067",
   "metadata": {},
   "outputs": [
    {
     "name": "stdout",
     "output_type": "stream",
     "text": [
      "Found 461 images belonging to 21 classes.\n"
     ]
    }
   ],
   "source": [
    "test_datagen = ImageDataGenerator(rescale=1./255)\n",
    "test_set = test_datagen.flow_from_directory(\n",
    "        'test_set',\n",
    "        target_size=(64, 64),\n",
    "        batch_size=32,\n",
    "        class_mode='categorical')"
   ]
  },
  {
   "cell_type": "code",
   "execution_count": 6,
   "id": "1ceaee25",
   "metadata": {},
   "outputs": [
    {
     "name": "stdout",
     "output_type": "stream",
     "text": [
      "WARNING:tensorflow:From C:\\Users\\jainn\\AppData\\Local\\Programs\\Python\\Python311\\Lib\\site-packages\\keras\\src\\backend.py:873: The name tf.get_default_graph is deprecated. Please use tf.compat.v1.get_default_graph instead.\n",
      "\n"
     ]
    }
   ],
   "source": [
    "cnn = tf.keras.models.Sequential()"
   ]
  },
  {
   "cell_type": "code",
   "execution_count": 7,
   "id": "1a97de82",
   "metadata": {},
   "outputs": [
    {
     "name": "stdout",
     "output_type": "stream",
     "text": [
      "WARNING:tensorflow:From C:\\Users\\jainn\\AppData\\Local\\Programs\\Python\\Python311\\Lib\\site-packages\\keras\\src\\layers\\pooling\\max_pooling2d.py:161: The name tf.nn.max_pool is deprecated. Please use tf.nn.max_pool2d instead.\n",
      "\n"
     ]
    }
   ],
   "source": [
    "cnn.add(tf.keras.layers.Conv2D(filters=64 , kernel_size=3 , activation='relu' , input_shape=[64,64,3]))\n",
    "cnn.add(tf.keras.layers.MaxPool2D(pool_size=2,strides=2))"
   ]
  },
  {
   "cell_type": "code",
   "execution_count": 8,
   "id": "a2d8cd43",
   "metadata": {},
   "outputs": [],
   "source": [
    "cnn.add(tf.keras.layers.Conv2D(filters=64 , kernel_size=3 , activation='relu' ))\n",
    "cnn.add(tf.keras.layers.MaxPool2D(pool_size=2 , strides=2))"
   ]
  },
  {
   "cell_type": "code",
   "execution_count": 9,
   "id": "873ec531",
   "metadata": {},
   "outputs": [],
   "source": [
    "cnn.add(tf.keras.layers.Dropout(0.5))"
   ]
  },
  {
   "cell_type": "code",
   "execution_count": 10,
   "id": "f4219553",
   "metadata": {},
   "outputs": [],
   "source": [
    "cnn.add(tf.keras.layers.Flatten())"
   ]
  },
  {
   "cell_type": "code",
   "execution_count": 11,
   "id": "5f395874",
   "metadata": {},
   "outputs": [],
   "source": [
    "cnn.add(tf.keras.layers.Dense(units=128, activation='relu'))"
   ]
  },
  {
   "cell_type": "code",
   "execution_count": 12,
   "id": "d912e951",
   "metadata": {},
   "outputs": [],
   "source": [
    "cnn.add(tf.keras.layers.Dense(units=21 , activation='softmax'))"
   ]
  },
  {
   "cell_type": "code",
   "execution_count": 13,
   "id": "6f8909da",
   "metadata": {},
   "outputs": [
    {
     "name": "stdout",
     "output_type": "stream",
     "text": [
      "WARNING:tensorflow:From C:\\Users\\jainn\\AppData\\Local\\Programs\\Python\\Python311\\Lib\\site-packages\\keras\\src\\optimizers\\__init__.py:309: The name tf.train.Optimizer is deprecated. Please use tf.compat.v1.train.Optimizer instead.\n",
      "\n"
     ]
    }
   ],
   "source": [
    "cnn.compile(optimizer = 'rmsprop' , loss = 'categorical_crossentropy' , metrics = ['accuracy'])"
   ]
  },
  {
   "cell_type": "code",
   "execution_count": 14,
   "id": "1066aa5b-ba83-4568-a3d3-5512c7f67cfe",
   "metadata": {},
   "outputs": [
    {
     "name": "stdout",
     "output_type": "stream",
     "text": [
      "Epoch 1/15\n",
      "WARNING:tensorflow:From C:\\Users\\jainn\\AppData\\Local\\Programs\\Python\\Python311\\Lib\\site-packages\\keras\\src\\utils\\tf_utils.py:492: The name tf.ragged.RaggedTensorValue is deprecated. Please use tf.compat.v1.ragged.RaggedTensorValue instead.\n",
      "\n",
      "WARNING:tensorflow:From C:\\Users\\jainn\\AppData\\Local\\Programs\\Python\\Python311\\Lib\\site-packages\\keras\\src\\engine\\base_layer_utils.py:384: The name tf.executing_eagerly_outside_functions is deprecated. Please use tf.compat.v1.executing_eagerly_outside_functions instead.\n",
      "\n",
      "38/38 [==============================] - 44s 1s/step - loss: 2.7641 - accuracy: 0.1857 - val_loss: 2.6516 - val_accuracy: 0.2516\n",
      "Epoch 2/15\n",
      "38/38 [==============================] - 37s 975ms/step - loss: 1.9385 - accuracy: 0.3897 - val_loss: 1.5011 - val_accuracy: 0.5076\n",
      "Epoch 3/15\n",
      "38/38 [==============================] - 36s 952ms/step - loss: 1.6132 - accuracy: 0.5017 - val_loss: 1.0586 - val_accuracy: 0.6508\n",
      "Epoch 4/15\n",
      "38/38 [==============================] - 37s 968ms/step - loss: 1.3113 - accuracy: 0.5813 - val_loss: 0.9874 - val_accuracy: 0.6681\n",
      "Epoch 5/15\n",
      "38/38 [==============================] - 38s 995ms/step - loss: 1.1197 - accuracy: 0.6410 - val_loss: 0.6634 - val_accuracy: 0.8221\n",
      "Epoch 6/15\n",
      "38/38 [==============================] - 39s 1s/step - loss: 1.0430 - accuracy: 0.6625 - val_loss: 0.6167 - val_accuracy: 0.7983\n",
      "Epoch 7/15\n",
      "38/38 [==============================] - 38s 1s/step - loss: 0.8959 - accuracy: 0.7090 - val_loss: 0.5966 - val_accuracy: 0.7961\n",
      "Epoch 8/15\n",
      "38/38 [==============================] - 36s 948ms/step - loss: 0.8341 - accuracy: 0.7322 - val_loss: 0.5609 - val_accuracy: 0.8069\n",
      "Epoch 9/15\n",
      "38/38 [==============================] - 36s 962ms/step - loss: 0.7304 - accuracy: 0.7629 - val_loss: 0.3914 - val_accuracy: 0.8894\n",
      "Epoch 10/15\n",
      "38/38 [==============================] - 36s 941ms/step - loss: 0.7013 - accuracy: 0.7695 - val_loss: 0.4774 - val_accuracy: 0.8590\n",
      "Epoch 11/15\n",
      "38/38 [==============================] - 36s 956ms/step - loss: 0.6379 - accuracy: 0.8035 - val_loss: 0.3390 - val_accuracy: 0.9024\n",
      "Epoch 12/15\n",
      "38/38 [==============================] - 39s 1s/step - loss: 0.6099 - accuracy: 0.8035 - val_loss: 0.2787 - val_accuracy: 0.9132\n",
      "Epoch 13/15\n",
      "38/38 [==============================] - 37s 974ms/step - loss: 0.5251 - accuracy: 0.8408 - val_loss: 0.4088 - val_accuracy: 0.8807\n",
      "Epoch 14/15\n",
      "38/38 [==============================] - 37s 991ms/step - loss: 0.4772 - accuracy: 0.8474 - val_loss: 0.2823 - val_accuracy: 0.9046\n",
      "Epoch 15/15\n",
      "38/38 [==============================] - 38s 1s/step - loss: 0.4633 - accuracy: 0.8433 - val_loss: 0.5873 - val_accuracy: 0.8048\n"
     ]
    },
    {
     "data": {
      "text/plain": [
       "<keras.src.callbacks.History at 0x21e184be350>"
      ]
     },
     "execution_count": 14,
     "metadata": {},
     "output_type": "execute_result"
    }
   ],
   "source": [
    "cnn.fit(x = training_set , validation_data = test_set , epochs = 15)"
   ]
  },
  {
   "cell_type": "code",
   "execution_count": 19,
   "id": "a15e7b27-f2dd-45a1-9bce-8678acc639d9",
   "metadata": {},
   "outputs": [
    {
     "ename": "FileNotFoundError",
     "evalue": "[Errno 2] No such file or directory: 'prediction/sandalwood.jpg'",
     "output_type": "error",
     "traceback": [
      "\u001b[1;31m---------------------------------------------------------------------------\u001b[0m",
      "\u001b[1;31mFileNotFoundError\u001b[0m                         Traceback (most recent call last)",
      "Cell \u001b[1;32mIn[19], line 2\u001b[0m\n\u001b[0;32m      1\u001b[0m \u001b[38;5;28;01mfrom\u001b[39;00m \u001b[38;5;21;01mtensorflow\u001b[39;00m\u001b[38;5;21;01m.\u001b[39;00m\u001b[38;5;21;01mkeras\u001b[39;00m\u001b[38;5;21;01m.\u001b[39;00m\u001b[38;5;21;01mpreprocessing\u001b[39;00m \u001b[38;5;28;01mimport\u001b[39;00m image\n\u001b[1;32m----> 2\u001b[0m original_image \u001b[38;5;241m=\u001b[39m \u001b[43mimage\u001b[49m\u001b[38;5;241;43m.\u001b[39;49m\u001b[43mload_img\u001b[49m\u001b[43m(\u001b[49m\u001b[38;5;124;43m'\u001b[39;49m\u001b[38;5;124;43mprediction/sandalwood.jpg\u001b[39;49m\u001b[38;5;124;43m'\u001b[39;49m\u001b[43m)\u001b[49m\n\u001b[0;32m      3\u001b[0m test_image \u001b[38;5;241m=\u001b[39m image\u001b[38;5;241m.\u001b[39mload_img(\u001b[38;5;124m'\u001b[39m\u001b[38;5;124mprediction/sandalwood.jpg\u001b[39m\u001b[38;5;124m'\u001b[39m,target_size\u001b[38;5;241m=\u001b[39m(\u001b[38;5;241m64\u001b[39m,\u001b[38;5;241m64\u001b[39m))\n\u001b[0;32m      4\u001b[0m test_image \u001b[38;5;241m=\u001b[39m image\u001b[38;5;241m.\u001b[39mimg_to_array(test_image)\n",
      "File \u001b[1;32m~\\AppData\\Local\\Programs\\Python\\Python311\\Lib\\site-packages\\keras\\src\\utils\\image_utils.py:422\u001b[0m, in \u001b[0;36mload_img\u001b[1;34m(path, grayscale, color_mode, target_size, interpolation, keep_aspect_ratio)\u001b[0m\n\u001b[0;32m    420\u001b[0m     \u001b[38;5;28;01mif\u001b[39;00m \u001b[38;5;28misinstance\u001b[39m(path, pathlib\u001b[38;5;241m.\u001b[39mPath):\n\u001b[0;32m    421\u001b[0m         path \u001b[38;5;241m=\u001b[39m \u001b[38;5;28mstr\u001b[39m(path\u001b[38;5;241m.\u001b[39mresolve())\n\u001b[1;32m--> 422\u001b[0m     \u001b[38;5;28;01mwith\u001b[39;00m \u001b[38;5;28mopen\u001b[39m(path, \u001b[38;5;124m\"\u001b[39m\u001b[38;5;124mrb\u001b[39m\u001b[38;5;124m\"\u001b[39m) \u001b[38;5;28;01mas\u001b[39;00m f:\n\u001b[0;32m    423\u001b[0m         img \u001b[38;5;241m=\u001b[39m pil_image\u001b[38;5;241m.\u001b[39mopen(io\u001b[38;5;241m.\u001b[39mBytesIO(f\u001b[38;5;241m.\u001b[39mread()))\n\u001b[0;32m    424\u001b[0m \u001b[38;5;28;01melse\u001b[39;00m:\n",
      "\u001b[1;31mFileNotFoundError\u001b[0m: [Errno 2] No such file or directory: 'prediction/sandalwood.jpg'"
     ]
    }
   ],
   "source": [
    "from tensorflow.keras.preprocessing import image\n",
    "original_image = image.load_img('prediction/s.jpg')\n",
    "test_image = image.load_img('prediction/sandalwood.jpg',target_size=(64,64))\n",
    "test_image = image.img_to_array(test_image)\n",
    "test_image = np.expand_dims(test_image,axis=0)\n",
    "result = cnn.predict(test_image)\n",
    "training_set.class_indices"
   ]
  },
  {
   "cell_type": "code",
   "execution_count": null,
   "id": "711b98b4",
   "metadata": {},
   "outputs": [],
   "source": [
    "print(result)\n",
    "print('Here 1 is to refer True value (at which index our given image is found)')\n",
    "print('0 is to refer False value/n')\n",
    "plt.imshow(original_image, interpolation='bicubic')\n",
    "plt.show()\n",
    "\n",
    "if result[0][0]==1:\n",
    "    print('Alpinia Galanga (Rasna)')\n",
    "    print('Used for digestive disorders. Originates from Southeast Asia.')\n",
    "elif result[0][1]==1:\n",
    "    print('Artocarpus Heterophyllus (Jackfruit)')\n",
    "    print('High in fiber and nutrients. Originates from southwest India.')\n",
    "elif result[0][2]==1:\n",
    "    print('Azadirachta Indica (Neem)')\n",
    "    print('Known for its medicinal properties. Originates from the Indian subcontinent.')\n",
    "elif result[0][3]==1:\n",
    "    print('Brassica Juncea (Indian Mustard)')\n",
    "    print('Used in Ayurvedic medicine. Originates from India.')\n",
    "elif result[0][4]==1:\n",
    "    print('Carissa Carandas (Karanda)')\n",
    "    print('Known for its antioxidant properties. Originates from India.')\n",
    "elif result[0][5]==1:\n",
    "    print('Ficus Religiosa (Peepal Tree)')\n",
    "    print('Sacred in Hinduism. Originates from the Indian subcontinent.')\n",
    "elif result[0][6]==1:\n",
    "    print('Jasminum (Jasmine)')\n",
    "    print('Fragrant flowers used in traditional medicine. Originates from tropical regions.')\n",
    "elif result[0][7]==1:\n",
    "    print('Mangifera Indica (Mango)')  \n",
    "    print('Rich in vitamins and antioxidants. Originates from South Asia.')\n",
    "elif result[0][8]==1:\n",
    "    print('Mentha (Mint)')\n",
    "    print('Used for digestive issues. Originates from Europe and Asia.')\n",
    "elif result[0][9]==1:\n",
    "    print('Moringa Oleifera (Drumstick)')\n",
    "    print('Nutrient-rich and used in traditional medicine. Originates from the Indian subcontinent.')\n",
    "elif result[0][10]==1:\n",
    "    print('Murraya Koenigii (Curry)')\n",
    "    print('Leaves used in culinary and traditional medicine. Originates from India.')\n",
    "elif result[0][11]==1:\n",
    "    print('Nerium Oleander (Oleander)')\n",
    "    print('Used in traditional medicine. Originates from the Mediterranean region.')\n",
    "elif result[0][12]==1:\n",
    "    print('Ocimum Tenuiflorum (Tulsi)')\n",
    "    print('Sacred basil in Hinduism. Originates from the Indian subcontinent.')\n",
    "elif result[0][13]==1:\n",
    "    print('Piper Betle (Betel)') \n",
    "    print('Leaves used in traditional medicine. Originates from Southeast Asia.')\n",
    "elif result[0][14]==1:\n",
    "    print('Pongamia Pinnata (Indian Beech)')\n",
    "    print('Used in traditional medicine and oil extraction. Originates from South Asia.')\n",
    "elif result[0][15]==1:\n",
    "    print('Psidium Guajava (Guava)')\n",
    "    print('Rich in vitamins and antioxidants. Originates from Central America.')\n",
    "elif result[0][16]==1:\n",
    "    print('Punica Granatum (Pomegranate)')\n",
    "    print('Rich in antioxidants. Originates from the Middle East.')\n",
    "elif result[0][17]==1:\n",
    "    print('Santalum Album (Sandalwood)')\n",
    "    print('Used in traditional medicine and perfumery. Originates from Southeast Asia.')\n",
    "elif result[0][18]==1:\n",
    "    print('Syzygium Cumini (Jamun)')\n",
    "    print('Fruit used in traditional medicine. Originates from the Indian subcontinent.')\n",
    "elif result[0][19]==1:\n",
    "    print('Trigonella Foenum-graecum (Fenugreek)') \n",
    "    print('Seeds used in traditional medicine and culinary dishes. Originates from South Asia.')\n",
    "elif result[0][20]==1 :\n",
    "    print('The image is not of any medicinal plant')\n"
   ]
  },
  {
   "cell_type": "code",
   "execution_count": null,
   "id": "c629b079-184a-45ae-8afc-a3d2f1c55ba6",
   "metadata": {},
   "outputs": [],
   "source": []
  }
 ],
 "metadata": {
  "kernelspec": {
   "display_name": "Python 3 (ipykernel)",
   "language": "python",
   "name": "python3"
  },
  "language_info": {
   "codemirror_mode": {
    "name": "ipython",
    "version": 3
   },
   "file_extension": ".py",
   "mimetype": "text/x-python",
   "name": "python",
   "nbconvert_exporter": "python",
   "pygments_lexer": "ipython3",
   "version": "3.11.0"
  }
 },
 "nbformat": 4,
 "nbformat_minor": 5
}
